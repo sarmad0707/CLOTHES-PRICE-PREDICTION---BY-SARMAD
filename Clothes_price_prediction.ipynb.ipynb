{
 "cells": [
  {
   "cell_type": "markdown",
   "id": "0fde6db3",
   "metadata": {},
   "source": [
    "# IMPORTING PACKAGES"
   ]
  },
  {
   "cell_type": "code",
   "execution_count": 1,
   "id": "f7dfdb73",
   "metadata": {},
   "outputs": [],
   "source": [
    "import pandas as pd\n",
    "import numpy as np\n",
    "import matplotlib.pyplot as plt\n",
    "import seaborn as sns\n",
    "%matplotlib inline\n",
    "\n",
    "import scipy as scipy\n",
    "from scipy import stats\n",
    "\n",
    "from sklearn.preprocessing import OrdinalEncoder\n",
    "from sklearn.preprocessing import StandardScaler\n",
    "from sklearn.linear_model import LogisticRegression  \n",
    "from sklearn.ensemble import RandomForestClassifier\n",
    "from sklearn.linear_model import LinearRegression\n",
    "from sklearn.tree import DecisionTreeClassifier \n",
    "from sklearn.model_selection import train_test_split                   \n",
    "from sklearn.metrics import classification_report     \n",
    "from sklearn.metrics import confusion_matrix\n",
    "from sklearn.metrics import accuracy_score\n"
   ]
  },
  {
   "cell_type": "markdown",
   "id": "7ef978f1",
   "metadata": {},
   "source": [
    "# IMPORTING DATASET"
   ]
  },
  {
   "cell_type": "code",
   "execution_count": 2,
   "id": "a1d3957c",
   "metadata": {},
   "outputs": [],
   "source": [
    "##Reading dataset using pd.read_csv()\n",
    "\n",
    "Cloth_Price = pd.read_csv(\"clothes_price_prediction_data.csv\")"
   ]
  },
  {
   "cell_type": "markdown",
   "id": "51f9928e",
   "metadata": {},
   "source": [
    "# EXPLORATORY DATA ANALYSIS"
   ]
  },
  {
   "cell_type": "code",
   "execution_count": 3,
   "id": "3674ae8c",
   "metadata": {},
   "outputs": [
    {
     "data": {
      "text/html": [
       "<div>\n",
       "<style scoped>\n",
       "    .dataframe tbody tr th:only-of-type {\n",
       "        vertical-align: middle;\n",
       "    }\n",
       "\n",
       "    .dataframe tbody tr th {\n",
       "        vertical-align: top;\n",
       "    }\n",
       "\n",
       "    .dataframe thead th {\n",
       "        text-align: right;\n",
       "    }\n",
       "</style>\n",
       "<table border=\"1\" class=\"dataframe\">\n",
       "  <thead>\n",
       "    <tr style=\"text-align: right;\">\n",
       "      <th></th>\n",
       "      <th>Brand</th>\n",
       "      <th>Category</th>\n",
       "      <th>Color</th>\n",
       "      <th>Size</th>\n",
       "      <th>Material</th>\n",
       "      <th>Price</th>\n",
       "    </tr>\n",
       "  </thead>\n",
       "  <tbody>\n",
       "    <tr>\n",
       "      <th>0</th>\n",
       "      <td>New Balance</td>\n",
       "      <td>Dress</td>\n",
       "      <td>White</td>\n",
       "      <td>XS</td>\n",
       "      <td>Nylon</td>\n",
       "      <td>182</td>\n",
       "    </tr>\n",
       "    <tr>\n",
       "      <th>1</th>\n",
       "      <td>New Balance</td>\n",
       "      <td>Jeans</td>\n",
       "      <td>Black</td>\n",
       "      <td>XS</td>\n",
       "      <td>Silk</td>\n",
       "      <td>57</td>\n",
       "    </tr>\n",
       "    <tr>\n",
       "      <th>2</th>\n",
       "      <td>Under Armour</td>\n",
       "      <td>Dress</td>\n",
       "      <td>Red</td>\n",
       "      <td>M</td>\n",
       "      <td>Wool</td>\n",
       "      <td>127</td>\n",
       "    </tr>\n",
       "    <tr>\n",
       "      <th>3</th>\n",
       "      <td>Nike</td>\n",
       "      <td>Shoes</td>\n",
       "      <td>Green</td>\n",
       "      <td>M</td>\n",
       "      <td>Cotton</td>\n",
       "      <td>77</td>\n",
       "    </tr>\n",
       "    <tr>\n",
       "      <th>4</th>\n",
       "      <td>Adidas</td>\n",
       "      <td>Sweater</td>\n",
       "      <td>White</td>\n",
       "      <td>M</td>\n",
       "      <td>Nylon</td>\n",
       "      <td>113</td>\n",
       "    </tr>\n",
       "  </tbody>\n",
       "</table>\n",
       "</div>"
      ],
      "text/plain": [
       "          Brand Category  Color Size Material  Price\n",
       "0   New Balance    Dress  White   XS    Nylon    182\n",
       "1   New Balance    Jeans  Black   XS     Silk     57\n",
       "2  Under Armour    Dress    Red    M     Wool    127\n",
       "3          Nike    Shoes  Green    M   Cotton     77\n",
       "4        Adidas  Sweater  White    M    Nylon    113"
      ]
     },
     "execution_count": 3,
     "metadata": {},
     "output_type": "execute_result"
    }
   ],
   "source": [
    "##Displayingb the the first 5 rows of our dataset\n",
    "Cloth_Price.head()"
   ]
  },
  {
   "cell_type": "code",
   "execution_count": 4,
   "id": "52eec305",
   "metadata": {},
   "outputs": [
    {
     "data": {
      "text/html": [
       "<div>\n",
       "<style scoped>\n",
       "    .dataframe tbody tr th:only-of-type {\n",
       "        vertical-align: middle;\n",
       "    }\n",
       "\n",
       "    .dataframe tbody tr th {\n",
       "        vertical-align: top;\n",
       "    }\n",
       "\n",
       "    .dataframe thead th {\n",
       "        text-align: right;\n",
       "    }\n",
       "</style>\n",
       "<table border=\"1\" class=\"dataframe\">\n",
       "  <thead>\n",
       "    <tr style=\"text-align: right;\">\n",
       "      <th></th>\n",
       "      <th>Price</th>\n",
       "    </tr>\n",
       "  </thead>\n",
       "  <tbody>\n",
       "    <tr>\n",
       "      <th>count</th>\n",
       "      <td>1000.000000</td>\n",
       "    </tr>\n",
       "    <tr>\n",
       "      <th>mean</th>\n",
       "      <td>106.289000</td>\n",
       "    </tr>\n",
       "    <tr>\n",
       "      <th>std</th>\n",
       "      <td>53.695444</td>\n",
       "    </tr>\n",
       "    <tr>\n",
       "      <th>min</th>\n",
       "      <td>10.000000</td>\n",
       "    </tr>\n",
       "    <tr>\n",
       "      <th>25%</th>\n",
       "      <td>59.750000</td>\n",
       "    </tr>\n",
       "    <tr>\n",
       "      <th>50%</th>\n",
       "      <td>108.000000</td>\n",
       "    </tr>\n",
       "    <tr>\n",
       "      <th>75%</th>\n",
       "      <td>150.000000</td>\n",
       "    </tr>\n",
       "    <tr>\n",
       "      <th>max</th>\n",
       "      <td>199.000000</td>\n",
       "    </tr>\n",
       "  </tbody>\n",
       "</table>\n",
       "</div>"
      ],
      "text/plain": [
       "             Price\n",
       "count  1000.000000\n",
       "mean    106.289000\n",
       "std      53.695444\n",
       "min      10.000000\n",
       "25%      59.750000\n",
       "50%     108.000000\n",
       "75%     150.000000\n",
       "max     199.000000"
      ]
     },
     "execution_count": 4,
     "metadata": {},
     "output_type": "execute_result"
    }
   ],
   "source": [
    "##Summary statistics of our dataset\n",
    "Cloth_Price.describe()"
   ]
  },
  {
   "cell_type": "markdown",
   "id": "695899d2",
   "metadata": {},
   "source": [
    "The maximum price is 199.00 while the minimum is 10.00"
   ]
  },
  {
   "cell_type": "code",
   "execution_count": 5,
   "id": "5d4fbac0",
   "metadata": {},
   "outputs": [
    {
     "name": "stdout",
     "output_type": "stream",
     "text": [
      "<class 'pandas.core.frame.DataFrame'>\n",
      "RangeIndex: 1000 entries, 0 to 999\n",
      "Data columns (total 6 columns):\n",
      " #   Column    Non-Null Count  Dtype \n",
      "---  ------    --------------  ----- \n",
      " 0   Brand     1000 non-null   object\n",
      " 1   Category  1000 non-null   object\n",
      " 2   Color     1000 non-null   object\n",
      " 3   Size      1000 non-null   object\n",
      " 4   Material  1000 non-null   object\n",
      " 5   Price     1000 non-null   int64 \n",
      "dtypes: int64(1), object(5)\n",
      "memory usage: 47.0+ KB\n"
     ]
    }
   ],
   "source": [
    "#Displaying information of our dataset using .info() fuction\n",
    "Cloth_Price.info()"
   ]
  },
  {
   "cell_type": "code",
   "execution_count": 6,
   "id": "5d79073d",
   "metadata": {},
   "outputs": [
    {
     "data": {
      "text/plain": [
       "6000"
      ]
     },
     "execution_count": 6,
     "metadata": {},
     "output_type": "execute_result"
    }
   ],
   "source": [
    "Cloth_Price.size"
   ]
  },
  {
   "cell_type": "markdown",
   "id": "3c3ebf63",
   "metadata": {},
   "source": [
    "The dataset is of size 6000"
   ]
  },
  {
   "cell_type": "code",
   "execution_count": 7,
   "id": "c7d7844b",
   "metadata": {},
   "outputs": [
    {
     "data": {
      "text/plain": [
       "(1000, 6)"
      ]
     },
     "execution_count": 7,
     "metadata": {},
     "output_type": "execute_result"
    }
   ],
   "source": [
    "Cloth_Price.shape"
   ]
  },
  {
   "cell_type": "markdown",
   "id": "59e53c52",
   "metadata": {},
   "source": [
    "The dataset has 1000 rows and 6 columns"
   ]
  },
  {
   "cell_type": "code",
   "execution_count": 8,
   "id": "99f4b4ba",
   "metadata": {},
   "outputs": [
    {
     "data": {
      "text/plain": [
       "Index(['Brand', 'Category', 'Color', 'Size', 'Material', 'Price'], dtype='object')"
      ]
     },
     "execution_count": 8,
     "metadata": {},
     "output_type": "execute_result"
    }
   ],
   "source": [
    "Cloth_Price.columns"
   ]
  },
  {
   "cell_type": "code",
   "execution_count": 9,
   "id": "6f680db9",
   "metadata": {},
   "outputs": [
    {
     "name": "stdout",
     "output_type": "stream",
     "text": [
      " Brand has 6 unique values\n",
      " Category has 6 unique values\n",
      " Color has 6 unique values\n",
      " Size has 6 unique values\n",
      " Material has 6 unique values\n",
      " Price has 190 unique values\n"
     ]
    }
   ],
   "source": [
    "#Displaying number of unique values in Clothe price dataset\n",
    "for i in Cloth_Price.columns:\n",
    "    print(f' {i} has {Cloth_Price[i].nunique()} unique values')"
   ]
  },
  {
   "cell_type": "code",
   "execution_count": 10,
   "id": "09da7ccc",
   "metadata": {},
   "outputs": [
    {
     "name": "stdout",
     "output_type": "stream",
     "text": [
      " The dataset Contains 5 categorical columns\n"
     ]
    }
   ],
   "source": [
    "#Categorical variables in Housing Data\n",
    "Categorical_Columns = Cloth_Price.select_dtypes(['object'])\n",
    "print(f' The dataset Contains {len(Categorical_Columns.columns.tolist())} categorical columns')"
   ]
  },
  {
   "cell_type": "code",
   "execution_count": 11,
   "id": "0fb9e1d8",
   "metadata": {},
   "outputs": [
    {
     "name": "stdout",
     "output_type": "stream",
     "text": [
      "Brand\n",
      "Category\n",
      "Color\n",
      "Size\n",
      "Material\n"
     ]
    }
   ],
   "source": [
    "for i in Categorical_Columns.columns:\n",
    "    print(i)"
   ]
  },
  {
   "cell_type": "code",
   "execution_count": 12,
   "id": "276a6fe6",
   "metadata": {},
   "outputs": [
    {
     "name": "stdout",
     "output_type": "stream",
     "text": [
      " The unique values in Brand are ['New Balance' 'Under Armour' 'Nike' 'Adidas' 'Reebok' 'Puma']\n",
      " The unique values in Category are ['Dress' 'Jeans' 'Shoes' 'Sweater' 'Jacket' 'T-shirt']\n",
      " The unique values in Color are ['White' 'Black' 'Red' 'Green' 'Yellow' 'Blue']\n",
      " The unique values in Size are ['XS' 'M' 'XL' 'XXL' 'S' 'L']\n",
      " The unique values in Material are ['Nylon' 'Silk' 'Wool' 'Cotton' 'Polyester' 'Denim']\n"
     ]
    }
   ],
   "source": [
    "for i in Categorical_Columns.columns:\n",
    "    print(f' The unique values in {i} are {Cloth_Price[i].unique()}')"
   ]
  },
  {
   "cell_type": "code",
   "execution_count": 13,
   "id": "028baac1",
   "metadata": {},
   "outputs": [
    {
     "data": {
      "text/html": [
       "<div>\n",
       "<style scoped>\n",
       "    .dataframe tbody tr th:only-of-type {\n",
       "        vertical-align: middle;\n",
       "    }\n",
       "\n",
       "    .dataframe tbody tr th {\n",
       "        vertical-align: top;\n",
       "    }\n",
       "\n",
       "    .dataframe thead th {\n",
       "        text-align: right;\n",
       "    }\n",
       "</style>\n",
       "<table border=\"1\" class=\"dataframe\">\n",
       "  <thead>\n",
       "    <tr style=\"text-align: right;\">\n",
       "      <th></th>\n",
       "      <th>count</th>\n",
       "      <th>unique</th>\n",
       "      <th>top</th>\n",
       "      <th>freq</th>\n",
       "    </tr>\n",
       "  </thead>\n",
       "  <tbody>\n",
       "    <tr>\n",
       "      <th>Brand</th>\n",
       "      <td>1000</td>\n",
       "      <td>6</td>\n",
       "      <td>Under Armour</td>\n",
       "      <td>179</td>\n",
       "    </tr>\n",
       "    <tr>\n",
       "      <th>Category</th>\n",
       "      <td>1000</td>\n",
       "      <td>6</td>\n",
       "      <td>Jacket</td>\n",
       "      <td>191</td>\n",
       "    </tr>\n",
       "    <tr>\n",
       "      <th>Color</th>\n",
       "      <td>1000</td>\n",
       "      <td>6</td>\n",
       "      <td>Yellow</td>\n",
       "      <td>173</td>\n",
       "    </tr>\n",
       "    <tr>\n",
       "      <th>Size</th>\n",
       "      <td>1000</td>\n",
       "      <td>6</td>\n",
       "      <td>XS</td>\n",
       "      <td>196</td>\n",
       "    </tr>\n",
       "    <tr>\n",
       "      <th>Material</th>\n",
       "      <td>1000</td>\n",
       "      <td>6</td>\n",
       "      <td>Polyester</td>\n",
       "      <td>175</td>\n",
       "    </tr>\n",
       "  </tbody>\n",
       "</table>\n",
       "</div>"
      ],
      "text/plain": [
       "         count unique           top freq\n",
       "Brand     1000      6  Under Armour  179\n",
       "Category  1000      6        Jacket  191\n",
       "Color     1000      6        Yellow  173\n",
       "Size      1000      6            XS  196\n",
       "Material  1000      6     Polyester  175"
      ]
     },
     "execution_count": 13,
     "metadata": {},
     "output_type": "execute_result"
    }
   ],
   "source": [
    "##Summary statistics for categorical values\n",
    "Cloth_Price.describe(include = ['object']).T"
   ]
  },
  {
   "cell_type": "code",
   "execution_count": 14,
   "id": "551eff07",
   "metadata": {},
   "outputs": [
    {
     "name": "stdout",
     "output_type": "stream",
     "text": [
      " The dataset contains 1 numerical columns\n"
     ]
    }
   ],
   "source": [
    "#Diplaying numerical varibales in dataset\n",
    "Numerical_Columns = Cloth_Price.select_dtypes('int64', 'float64')\n",
    "print(f' The dataset contains {len(Numerical_Columns.columns.tolist())} numerical columns')"
   ]
  },
  {
   "cell_type": "code",
   "execution_count": 15,
   "id": "0eebcc11",
   "metadata": {},
   "outputs": [
    {
     "name": "stdout",
     "output_type": "stream",
     "text": [
      "Price\n"
     ]
    }
   ],
   "source": [
    "for i in Numerical_Columns.columns:\n",
    "    print(i)"
   ]
  },
  {
   "cell_type": "markdown",
   "id": "6c376de2",
   "metadata": {},
   "source": [
    "# DATA CLEANING "
   ]
  },
  {
   "cell_type": "code",
   "execution_count": 16,
   "id": "4004bad4",
   "metadata": {},
   "outputs": [
    {
     "data": {
      "text/plain": [
       "Brand       0\n",
       "Category    0\n",
       "Color       0\n",
       "Size        0\n",
       "Material    0\n",
       "Price       0\n",
       "dtype: int64"
      ]
     },
     "execution_count": 16,
     "metadata": {},
     "output_type": "execute_result"
    }
   ],
   "source": [
    "Cloth_Price.isnull().sum()"
   ]
  },
  {
   "cell_type": "markdown",
   "id": "98349d13",
   "metadata": {},
   "source": [
    "The dataset contains no null values"
   ]
  },
  {
   "cell_type": "code",
   "execution_count": 17,
   "id": "b861ceab",
   "metadata": {},
   "outputs": [
    {
     "data": {
      "text/plain": [
       "np.False_"
      ]
     },
     "execution_count": 17,
     "metadata": {},
     "output_type": "execute_result"
    }
   ],
   "source": [
    "Cloth_Price.duplicated().any()"
   ]
  },
  {
   "cell_type": "markdown",
   "id": "1de6e1b9",
   "metadata": {},
   "source": [
    "The data set has no duplicate variables"
   ]
  },
  {
   "cell_type": "markdown",
   "id": "e59d29b2",
   "metadata": {},
   "source": [
    "## Price Analysis"
   ]
  },
  {
   "cell_type": "markdown",
   "id": "cf14d973",
   "metadata": {},
   "source": [
    "The prices of clothes are fairly normally distributed."
   ]
  },
  {
   "cell_type": "code",
   "execution_count": 18,
   "id": "eae53b3f",
   "metadata": {},
   "outputs": [
    {
     "data": {
      "text/plain": [
       "<Figure size 640x480 with 0 Axes>"
      ]
     },
     "execution_count": 18,
     "metadata": {},
     "output_type": "execute_result"
    },
    {
     "data": {
      "image/png": "[encoded data removed]",
      "text/plain": [
       "<Figure size 640x480 with 1 Axes>"
      ]
     },
     "metadata": {},
     "output_type": "display_data"
    },
    {
     "data": {
      "text/plain": [
       "<Figure size 640x480 with 0 Axes>"
      ]
     },
     "metadata": {},
     "output_type": "display_data"
    }
   ],
   "source": [
    "scipy.stats.probplot(Cloth_Price.Price, plot = plt)\n",
    "plt.figure()"
   ]
  },
  {
   "cell_type": "markdown",
   "id": "5817cd3e",
   "metadata": {},
   "source": [
    "It is clear from the plot that the price of clothes is equally distributed accross brand, categeory, size, and material."
   ]
  },
  {
   "cell_type": "code",
   "execution_count": 19,
   "id": "7b32a422",
   "metadata": {},
   "outputs": [
    {
     "data": {
      "text/plain": [
       "count    1000.000000\n",
       "mean      106.289000\n",
       "std        53.695444\n",
       "min        10.000000\n",
       "25%        59.750000\n",
       "50%       108.000000\n",
       "75%       150.000000\n",
       "max       199.000000\n",
       "Name: Price, dtype: float64"
      ]
     },
     "execution_count": 19,
     "metadata": {},
     "output_type": "execute_result"
    }
   ],
   "source": [
    "Cloth_Price.Price.describe()"
   ]
  },
  {
   "cell_type": "markdown",
   "id": "e1812aee",
   "metadata": {},
   "source": [
    "# DATA PREPARATION"
   ]
  },
  {
   "cell_type": "code",
   "execution_count": 20,
   "id": "73e8743a",
   "metadata": {},
   "outputs": [],
   "source": [
    "#Encoding Categorical Variables\n",
    "encoder = OrdinalEncoder()\n",
    "Cloth_Price[['Brand','Category','Color','Size','Material']] = encoder.fit_transform(Cloth_Price[['Brand','Category','Color','Size','Material']])"
   ]
  },
  {
   "cell_type": "code",
   "execution_count": 21,
   "id": "8cf61619",
   "metadata": {},
   "outputs": [
    {
     "data": {
      "text/html": [
       "<div>\n",
       "<style scoped>\n",
       "    .dataframe tbody tr th:only-of-type {\n",
       "        vertical-align: middle;\n",
       "    }\n",
       "\n",
       "    .dataframe tbody tr th {\n",
       "        vertical-align: top;\n",
       "    }\n",
       "\n",
       "    .dataframe thead th {\n",
       "        text-align: right;\n",
       "    }\n",
       "</style>\n",
       "<table border=\"1\" class=\"dataframe\">\n",
       "  <thead>\n",
       "    <tr style=\"text-align: right;\">\n",
       "      <th></th>\n",
       "      <th>Brand</th>\n",
       "      <th>Category</th>\n",
       "      <th>Color</th>\n",
       "      <th>Size</th>\n",
       "      <th>Material</th>\n",
       "      <th>Price</th>\n",
       "    </tr>\n",
       "  </thead>\n",
       "  <tbody>\n",
       "    <tr>\n",
       "      <th>0</th>\n",
       "      <td>1.0</td>\n",
       "      <td>0.0</td>\n",
       "      <td>4.0</td>\n",
       "      <td>4.0</td>\n",
       "      <td>2.0</td>\n",
       "      <td>182</td>\n",
       "    </tr>\n",
       "    <tr>\n",
       "      <th>1</th>\n",
       "      <td>1.0</td>\n",
       "      <td>2.0</td>\n",
       "      <td>0.0</td>\n",
       "      <td>4.0</td>\n",
       "      <td>4.0</td>\n",
       "      <td>57</td>\n",
       "    </tr>\n",
       "    <tr>\n",
       "      <th>2</th>\n",
       "      <td>5.0</td>\n",
       "      <td>0.0</td>\n",
       "      <td>3.0</td>\n",
       "      <td>1.0</td>\n",
       "      <td>5.0</td>\n",
       "      <td>127</td>\n",
       "    </tr>\n",
       "    <tr>\n",
       "      <th>3</th>\n",
       "      <td>2.0</td>\n",
       "      <td>3.0</td>\n",
       "      <td>2.0</td>\n",
       "      <td>1.0</td>\n",
       "      <td>0.0</td>\n",
       "      <td>77</td>\n",
       "    </tr>\n",
       "    <tr>\n",
       "      <th>4</th>\n",
       "      <td>0.0</td>\n",
       "      <td>4.0</td>\n",
       "      <td>4.0</td>\n",
       "      <td>1.0</td>\n",
       "      <td>2.0</td>\n",
       "      <td>113</td>\n",
       "    </tr>\n",
       "  </tbody>\n",
       "</table>\n",
       "</div>"
      ],
      "text/plain": [
       "   Brand  Category  Color  Size  Material  Price\n",
       "0    1.0       0.0    4.0   4.0       2.0    182\n",
       "1    1.0       2.0    0.0   4.0       4.0     57\n",
       "2    5.0       0.0    3.0   1.0       5.0    127\n",
       "3    2.0       3.0    2.0   1.0       0.0     77\n",
       "4    0.0       4.0    4.0   1.0       2.0    113"
      ]
     },
     "execution_count": 21,
     "metadata": {},
     "output_type": "execute_result"
    }
   ],
   "source": [
    "Cloth_Price.head()"
   ]
  },
  {
   "cell_type": "code",
   "execution_count": 22,
   "id": "848c3f41",
   "metadata": {},
   "outputs": [
    {
     "name": "stdout",
     "output_type": "stream",
     "text": [
      "(1000, 5)\n",
      "(1000,)\n"
     ]
    }
   ],
   "source": [
    "x = Cloth_Price.drop(['Price'], axis = 1)\n",
    "y = Cloth_Price.Price\n",
    "\n",
    "print(x.shape)\n",
    "print(y.shape)"
   ]
  },
  {
   "cell_type": "markdown",
   "id": "e518a3d8",
   "metadata": {},
   "source": [
    "# MODELING"
   ]
  },
  {
   "cell_type": "code",
   "execution_count": 23,
   "id": "5468db5f",
   "metadata": {},
   "outputs": [],
   "source": [
    "#Split dataset into train and test\n",
    "x_train,x_test,y_train,y_test = train_test_split(x,y,test_size=0.25,random_state=15)"
   ]
  },
  {
   "cell_type": "code",
   "execution_count": 24,
   "id": "ef53f66b",
   "metadata": {},
   "outputs": [
    {
     "name": "stdout",
     "output_type": "stream",
     "text": [
      "(750, 5)\n",
      "(250, 5)\n",
      "(750,)\n",
      "(250,)\n"
     ]
    }
   ],
   "source": [
    "#Lets see the shapes\n",
    "print(x_train.shape)\n",
    "print(x_test.shape)\n",
    "print(y_train.shape)\n",
    "print(y_test.shape)"
   ]
  }
 ],
 "metadata": {
  "kernelspec": {
   "display_name": "base",
   "language": "python",
   "name": "python3"
  },
  "language_info": {
   "codemirror_mode": {
    "name": "ipython",
    "version": 3
   },
   "file_extension": ".py",
   "mimetype": "text/x-python",
   "name": "python",
   "nbconvert_exporter": "python",
   "pygments_lexer": "ipython3",
   "version": "3.12.4"
  }
 },
 "nbformat": 4,
 "nbformat_minor": 5
}
